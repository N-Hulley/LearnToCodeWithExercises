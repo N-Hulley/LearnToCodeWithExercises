{
 "metadata": {
  "language_info": {
   "codemirror_mode": {
    "name": "ipython",
    "version": 3
   },
   "file_extension": ".py",
   "mimetype": "text/x-python",
   "name": "python",
   "nbconvert_exporter": "python",
   "pygments_lexer": "ipython3",
   "version": "3.9.0-final"
  },
  "orig_nbformat": 2,
  "kernelspec": {
   "name": "python3",
   "display_name": "Python 3.9.0 64-bit",
   "metadata": {
    "interpreter": {
     "hash": "5ee328a8035d7becb5aea08c7f42a603582f19ed3a170439a5058e90e3fa370f"
    }
   }
  }
 },
 "nbformat": 4,
 "nbformat_minor": 2,
 "cells": [
  {
   "source": [
    "# Welcome to python!\n",
    "## Introduction\n",
    "This repo is designed to teach you how to code from scratch. Every lesson will have at least one task and maybe even a challenge. I encourage you to be creative with the tasks and experiment around.\n",
    "\n",
    "For the first lesson we will start as all programmers should, with a single line of code. \n",
    "\n",
    "This is a simple function which will display whatever is in the quotation marks to the user.\n",
    "\n",
    "If you have configured everything correctly, then when you click the play button in the line below, the code should run!"
   ],
   "cell_type": "markdown",
   "metadata": {}
  },
  {
   "cell_type": "code",
   "execution_count": 6,
   "metadata": {},
   "outputs": [
    {
     "output_type": "stream",
     "name": "stdout",
     "text": [
      "Hello World!\n"
     ]
    }
   ],
   "source": [
    "print(\"Hello World!\")"
   ]
  },
  {
   "source": [
    "## Common problems\n",
    "* Make sure that the word \"print\" is all lowercase\n",
    "* Make sure you have the brackets ()\n",
    "* Make sure the words inside the brackets have \"quotation marks around them\"\n",
    "* If it still does not work then the problem is most likely some sort of configuration/setup problem. Please make sure you have completed all of the steps in the Getting Started section of the [Readme file](https://github.com/N-Hulley/LearnToCodeWithExercises/blob/main/python/README.md)\n",
    "\n",
    "## Tips\n",
    "Click on the code to edit it"
   ],
   "cell_type": "markdown",
   "metadata": {}
  }
 ]
}