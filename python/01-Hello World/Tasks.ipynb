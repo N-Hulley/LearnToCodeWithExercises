{
 "metadata": {
  "language_info": {
   "codemirror_mode": {
    "name": "ipython",
    "version": 3
   },
   "file_extension": ".py",
   "mimetype": "text/x-python",
   "name": "python",
   "nbconvert_exporter": "python",
   "pygments_lexer": "ipython3",
   "version": 3
  },
  "orig_nbformat": 2
 },
 "nbformat": 4,
 "nbformat_minor": 2,
 "cells": [
  {
   "source": [
    "# Tasks\n",
    "## Task 1\n",
    "Write the code to print out \"Hello World!\"\n",
    "\n"
   ],
   "cell_type": "markdown",
   "metadata": {}
  },
  {
   "cell_type": "code",
   "execution_count": null,
   "metadata": {},
   "outputs": [],
   "source": [
    "# Click in this box to start writing code\n",
    "\n"
   ]
  },
  {
   "source": [
    "## Task 2\n",
    "Write code to print out your name"
   ],
   "cell_type": "markdown",
   "metadata": {}
  },
  {
   "cell_type": "code",
   "execution_count": null,
   "metadata": {},
   "outputs": [],
   "source": [
    "# Click in this box to start writing code\n",
    "\n"
   ]
  },
  {
   "source": [
    "## Hints\n",
    "\n",
    "(Section to move to extenal link in future)\n",
    "\n",
    "The Lesson notebook has a section for common problems.\n",
    "\n",
    "Look at code in the Lesson notebook and replace the words in quotation marks.\n"
   ],
   "cell_type": "markdown",
   "metadata": {}
  },
  {
   "source": [
    "# Challenge\n",
    "\n",
    "This section does not have a challenge yet. If you have an idea for a challenge then [create an issue](https://github.com/N-Hulley/LearnToCodeWithExercises/issues/new) with your idea."
   ],
   "cell_type": "markdown",
   "metadata": {}
  }
 ]
}